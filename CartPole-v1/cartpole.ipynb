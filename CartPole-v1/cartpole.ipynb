{
 "cells": [
  {
   "cell_type": "code",
   "execution_count": null,
   "metadata": {},
   "outputs": [],
   "source": [
    "import random \n",
    "import gym\n",
    "import numpy as np\n",
    "import cv2\n",
    "import numpy as np\n",
    "from gym import wrappers\n"
   ]
  },
  {
   "cell_type": "code",
   "execution_count": null,
   "metadata": {},
   "outputs": [],
   "source": [
    "env = gym.make('CartPole-v1',render_mode = 'human') # to visualize use render_mode= 'human'\n",
    "\n",
    "states = env.observation_space.shape[0]\n",
    "\n",
    "actions = env.action_space.n\n"
   ]
  },
  {
   "cell_type": "markdown",
   "metadata": {},
   "source": [
    "Test For Random Actions for each episode \n"
   ]
  },
  {
   "cell_type": "code",
   "execution_count": null,
   "metadata": {},
   "outputs": [],
   "source": [
    "episodes = 10 \n",
    "\n",
    "for episode in range (1 , episodes +1):\n",
    "    env.reset()\n",
    "    score = 0\n",
    "    done = 0\n",
    "\n",
    "    while not done:\n",
    "\n",
    "        action = random.choice([0 , 1])\n",
    "        _, reward , done , _ = env.step(action)\n",
    "        score += reward\n",
    "        #env.render()\n",
    "    print(f\"Episode {episode} ,Score {score} \")\n",
    "\n",
    "env.close()"
   ]
  },
  {
   "cell_type": "markdown",
   "metadata": {},
   "source": [
    "Started Reinforcement Learning "
   ]
  },
  {
   "cell_type": "code",
   "execution_count": null,
   "metadata": {},
   "outputs": [],
   "source": [
    "from keras.models import Sequential\n",
    "from keras.layers import Dense , Flatten , Dropout\n",
    "from keras.optimizers import Adam \n",
    "from keras.metrics import MeanAbsoluteError\n",
    "\n",
    "from rl.agents import DQNAgent\n",
    "from rl.policy import BoltzmannQPolicy\n",
    "from rl.memory import SequentialMemory\n"
   ]
  },
  {
   "cell_type": "code",
   "execution_count": null,
   "metadata": {},
   "outputs": [],
   "source": [
    "def update_model(states , actions):\n",
    "    model = Sequential()\n",
    "    model.add(Flatten(input_shape=(1 , states)))\n",
    "    model.add(Dense(24 , activation = 'relu'))\n",
    "    model.add(Dense(24 , activation = 'relu'))    \n",
    "    model.add(Dense(actions , activation = 'linear'))\n",
    "    return model\n",
    "\n",
    "def update_agent(model , actions):\n",
    "    model = model \n",
    "    memory = SequentialMemory(limit= 500000 , window_length =1)\n",
    "    policy = BoltzmannQPolicy()\n",
    "    dqn = DQNAgent(model , policy , memory = memory, nb_actions = actions ,nb_steps_warmup = 10 , target_model_update = 0.01)\n",
    "\n",
    "    return dqn    \n",
    "    \n"
   ]
  },
  {
   "cell_type": "code",
   "execution_count": null,
   "metadata": {},
   "outputs": [],
   "source": [
    "model = update_model(states , actions)\n",
    "\n",
    "dqn = update_agent(model , actions)\n",
    "\n",
    "optimizer = Adam(learning_rate= 0.001)\n",
    "metrics = MeanAbsoluteError()\n",
    "\n",
    "dqn.compile(optimizer=optimizer , metrics=[metrics])\n"
   ]
  },
  {
   "cell_type": "markdown",
   "metadata": {},
   "source": [
    "Training Now with model.fit\n"
   ]
  },
  {
   "cell_type": "code",
   "execution_count": null,
   "metadata": {},
   "outputs": [],
   "source": [
    "#dqn.fit(env , nb_steps=100000, visualize= False)"
   ]
  },
  {
   "cell_type": "code",
   "execution_count": null,
   "metadata": {},
   "outputs": [],
   "source": [
    "#Save weights after training\n",
    "#dqn.save_weights('weights/cartople.h5' , overwrite=True)"
   ]
  },
  {
   "cell_type": "code",
   "execution_count": null,
   "metadata": {},
   "outputs": [],
   "source": [
    "del env\n",
    "del dqn\n",
    "del model"
   ]
  },
  {
   "cell_type": "code",
   "execution_count": null,
   "metadata": {},
   "outputs": [],
   "source": [
    "env = gym.make('CartPole-v1',render_mode = 'human') # to visualize use render_mode= 'human'\n",
    "\n",
    "states = env.observation_space.shape[0]\n",
    "\n",
    "actions = env.action_space.n\n"
   ]
  },
  {
   "cell_type": "code",
   "execution_count": null,
   "metadata": {},
   "outputs": [],
   "source": [
    "model = update_model(states , actions)\n",
    "\n",
    "dqn = update_agent(model , actions)\n",
    "\n",
    "optimizer = Adam(learning_rate= 0.001)\n",
    "metrics = MeanAbsoluteError()\n",
    "\n",
    "dqn.compile(optimizer=optimizer , metrics=[metrics])"
   ]
  },
  {
   "cell_type": "code",
   "execution_count": null,
   "metadata": {},
   "outputs": [],
   "source": [
    "dqn.load_weights('/home/navaneet/Desktop/GITHUB/Basic-Reinforcement-Learning/CartPole-v1/weights/cartople.h5')"
   ]
  },
  {
   "cell_type": "code",
   "execution_count": null,
   "metadata": {},
   "outputs": [],
   "source": [
    "result = dqn.test(env, nb_episodes= 10 , visualize= True)\n",
    "print(np.mean(result.history['episode_reward']))\n"
   ]
  },
  {
   "cell_type": "code",
   "execution_count": null,
   "metadata": {},
   "outputs": [],
   "source": []
  }
 ],
 "metadata": {
  "kernelspec": {
   "display_name": "Python 3",
   "language": "python",
   "name": "python3"
  },
  "language_info": {
   "codemirror_mode": {
    "name": "ipython",
    "version": 3
   },
   "file_extension": ".py",
   "mimetype": "text/x-python",
   "name": "python",
   "nbconvert_exporter": "python",
   "pygments_lexer": "ipython3",
   "version": "3.8.10"
  }
 },
 "nbformat": 4,
 "nbformat_minor": 2
}
