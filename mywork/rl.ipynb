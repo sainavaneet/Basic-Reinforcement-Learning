{
 "cells": [
  {
   "cell_type": "code",
   "execution_count": null,
   "metadata": {},
   "outputs": [],
   "source": [
    "import gymnasium as gym\n",
    "import math\n",
    "import random\n",
    "import matplotlib\n",
    "import matplotlib.pyplot as plt\n",
    "from collections import namedtuple , deque\n",
    "from itertools import  count\n",
    "\n",
    "from franka import FrankaRoboticsEnv\n",
    "import torch\n",
    "import torch.nn as nn\n",
    "import torch.optim as optim\n",
    "import torch.nn.functional as F\n",
    "\n"
   ]
  },
  {
   "cell_type": "code",
   "execution_count": null,
   "metadata": {},
   "outputs": [],
   "source": [
    "env = FrankaRoboticsEnv(\n",
    "    # executable_file='@editor',\n",
    "    scene_file='FrankaRobotics.json',\n",
    "    max_episode_length = 1000,\n",
    "    reward_type='sparse',\n",
    "    seed=None,\n",
    "    tolerance=0.05,\n",
    "    load_object=True,\n",
    "    target_in_air=True,\n",
    "    block_gripper=False,\n",
    "    target_xz_range=0.15,\n",
    "    target_y_range=0.6,\n",
    "    object_xz_range=0.15,\n",
    "    asset_bundle_file=None,\n",
    "    assets=['Rigidbody_Box']\n",
    ")\n",
    "device = torch.device(\"cuda\" if torch.cuda.is_available() else \"cpu\")\n"
   ]
  },
  {
   "cell_type": "code",
   "execution_count": null,
   "metadata": {},
   "outputs": [],
   "source": [
    "n_actions = env.action_space.shape[0]\n",
    "\n",
    "# Reset the environment at the beginning of each episode\n",
    "reset_output = env.reset()\n",
    "\n",
    "# Extract observation, achieved_goal, and desired_goal from the output\n",
    "state = reset_output['observation']  # The initial observation state\n",
    "achieved_goal = reset_output['achieved_goal']  # The initial achieved goal\n",
    "desired_goal = reset_output['desired_goal']  # The goal to achieve\n",
    "\n",
    "# Convert to PyTorch tensors and add batch dimension if necessary\n",
    "n_observations = torch.tensor([state], dtype=torch.float32, device=device)\n"
   ]
  },
  {
   "cell_type": "code",
   "execution_count": null,
   "metadata": {},
   "outputs": [],
   "source": [
    "env.observation_space.sample()"
   ]
  },
  {
   "cell_type": "code",
   "execution_count": null,
   "metadata": {},
   "outputs": [],
   "source": [
    "Transition = namedtuple(\"Transition\" , ('state' , 'action' , 'next_state', 'reward'))\n",
    "\n",
    "\n",
    "class ReplayMemory(object):\n",
    "\n",
    "    def __init__(self, capacity):\n",
    "        self.memory = deque([], maxlen=capacity)\n",
    "\n",
    "    def push(self, *args):\n",
    "        \"\"\"Save a transition\"\"\"\n",
    "        self.memory.append(Transition(*args))\n",
    "\n",
    "    def sample(self, batch_size):\n",
    "        return random.sample(self.memory, batch_size)\n",
    "\n",
    "    def __len__(self):\n",
    "        return len(self.memory)"
   ]
  },
  {
   "cell_type": "code",
   "execution_count": null,
   "metadata": {},
   "outputs": [],
   "source": [
    "class DQN(nn.Module):\n",
    "\n",
    "    def __init__(self , n_observations , n_actions):\n",
    "        super(DQN , self).__init__()\n",
    "        self.layer1 = nn.Linear(n_observations, 128)\n",
    "        self.layer2 = nn.Linear(128 , 128)\n",
    "        self.layer3 = nn.Linear(128 , n_actions)\n",
    "\n",
    "    def forward(self , x):\n",
    "        x = F.relu(self.layer1(x))\n",
    "        x = F.relu(self.layer2(x))\n",
    "        return self.layer3(x)"
   ]
  },
  {
   "cell_type": "code",
   "execution_count": null,
   "metadata": {},
   "outputs": [],
   "source": [
    "\n",
    "\n",
    "BATCH_SIZE = 128\n",
    "GAMMA = 0.99\n",
    "EPS_START = 0.9\n",
    "EPS_END = 0.05\n",
    "EPS_DECAY = 1000\n",
    "TAU = 0.005\n",
    "LR = 1e-4\n",
    "\n",
    "\n",
    "\n",
    "policy_net = DQN(n_observations ,n_actions).to(device)\n",
    "target_net = DQN(n_observations , n_actions).to(device)\n",
    "\n",
    "target_net.load_state_dict(policy_net.state_dict())\n"
   ]
  },
  {
   "cell_type": "code",
   "execution_count": null,
   "metadata": {},
   "outputs": [],
   "source": []
  }
 ],
 "metadata": {
  "kernelspec": {
   "display_name": "rfuniverse",
   "language": "python",
   "name": "python3"
  },
  "language_info": {
   "codemirror_mode": {
    "name": "ipython",
    "version": 3
   },
   "file_extension": ".py",
   "mimetype": "text/x-python",
   "name": "python",
   "nbconvert_exporter": "python",
   "pygments_lexer": "ipython3",
   "version": "3.10.13"
  }
 },
 "nbformat": 4,
 "nbformat_minor": 2
}
