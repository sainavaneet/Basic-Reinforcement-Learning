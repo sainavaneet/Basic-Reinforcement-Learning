{
 "cells": [
  {
   "cell_type": "code",
   "execution_count": null,
   "metadata": {},
   "outputs": [],
   "source": [
    "import gymnasium as gym\n",
    "import panda_gym\n",
    "\n"
   ]
  },
  {
   "cell_type": "code",
   "execution_count": null,
   "metadata": {},
   "outputs": [],
   "source": [
    "env = gym.make('PandaReach-v3', render_mode=\"human\")\n",
    "\n",
    "observation, info = env.reset()\n",
    "\n"
   ]
  },
  {
   "cell_type": "code",
   "execution_count": null,
   "metadata": {},
   "outputs": [],
   "source": [
    "for _ in range(100000):\n",
    "    action = env.action_space.sample() # random action\n",
    "    observation, reward, terminated, truncated, info = env.step(action)\n",
    "\n",
    "    if terminated or truncated:\n",
    "        observation, info = env.reset()\n",
    "\n",
    "env.close()"
   ]
  },
  {
   "cell_type": "code",
   "execution_count": 5,
   "metadata": {},
   "outputs": [],
   "source": [
    "from pyrfuniverse.envs"
   ]
  },
  {
   "cell_type": "code",
   "execution_count": null,
   "metadata": {},
   "outputs": [],
   "source": [
    "env = FrankaRoboticsEnv(\n",
    "    # executable_file='@editor',\n",
    "    scene_file='FrankaRobotics.json',\n",
    "    max_episode_length=500,\n",
    "    reward_type='sparse',\n",
    "    seed=None,\n",
    "    tolerance=0.05,\n",
    "    load_object=True,\n",
    "    target_in_air=True,\n",
    "    block_gripper=False,\n",
    "    target_xz_range=0.15,\n",
    "    target_y_range=0.6,\n",
    "    object_xz_range=0.15,\n",
    "    asset_bundle_file=None,\n",
    "    assets=['Rigidbody_Box']\n",
    ")\n",
    "env.reset()"
   ]
  }
 ],
 "metadata": {
  "kernelspec": {
   "display_name": "Python 3",
   "language": "python",
   "name": "python3"
  },
  "language_info": {
   "codemirror_mode": {
    "name": "ipython",
    "version": 3
   },
   "file_extension": ".py",
   "mimetype": "text/x-python",
   "name": "python",
   "nbconvert_exporter": "python",
   "pygments_lexer": "ipython3",
   "version": "3.11.5"
  }
 },
 "nbformat": 4,
 "nbformat_minor": 2
}
